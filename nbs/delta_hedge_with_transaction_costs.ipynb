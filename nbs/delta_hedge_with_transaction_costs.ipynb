{
 "cells": [
  {
   "cell_type": "code",
   "execution_count": 1,
   "metadata": {},
   "outputs": [],
   "source": [
    "import numpy as np\n",
    "import pandas as pd"
   ]
  },
  {
   "cell_type": "code",
   "execution_count": 2,
   "metadata": {},
   "outputs": [],
   "source": [
    "days = 5\n",
    "\n",
    "underlying_prices = list([377.85, 369.14, 372.52, 368.8, 374.23])\n",
    "call_option_prices = list([18.9455, 14.49, 11.65, 13.30, 15.45])\n",
    "option_deltas = list([0.5072, 0.3418, 0.4026, 0.3280, 0.4146])\n",
    "\n",
    "data = pd.DataFrame({\n",
    "    'Day': np.arange(1, days + 1),\n",
    "    'Underlying Price': underlying_prices,\n",
    "    'Call Option Price': call_option_prices,\n",
    "    'Option Delta': option_deltas\n",
    "})"
   ]
  },
  {
   "cell_type": "code",
   "execution_count": 3,
   "metadata": {},
   "outputs": [],
   "source": [
    "def delta_hedge_with_costs(price_of_underlying, price_of_call_option, delta_of_option):\n",
    "    hedge_amount = -delta_of_option * price_of_call_option / price_of_underlying\n",
    "    transaction_costs = 0.02 * abs(hedge_amount) * price_of_underlying\n",
    "    return hedge_amount, transaction_costs"
   ]
  },
  {
   "cell_type": "code",
   "execution_count": 4,
   "metadata": {},
   "outputs": [
    {
     "name": "stdout",
     "output_type": "stream",
     "text": [
      "Total Mean Squared Error: 6.501923168695977\n"
     ]
    },
    {
     "data": {
      "text/html": [
       "<div>\n",
       "<style scoped>\n",
       "    .dataframe tbody tr th:only-of-type {\n",
       "        vertical-align: middle;\n",
       "    }\n",
       "\n",
       "    .dataframe tbody tr th {\n",
       "        vertical-align: top;\n",
       "    }\n",
       "\n",
       "    .dataframe thead th {\n",
       "        text-align: right;\n",
       "    }\n",
       "</style>\n",
       "<table border=\"1\" class=\"dataframe\">\n",
       "  <thead>\n",
       "    <tr style=\"text-align: right;\">\n",
       "      <th></th>\n",
       "      <th>Day</th>\n",
       "      <th>Underlying Price</th>\n",
       "      <th>Call Option Price</th>\n",
       "      <th>Option Delta</th>\n",
       "      <th>A_i</th>\n",
       "    </tr>\n",
       "  </thead>\n",
       "  <tbody>\n",
       "    <tr>\n",
       "      <th>0</th>\n",
       "      <td>1</td>\n",
       "      <td>377.85</td>\n",
       "      <td>18.9455</td>\n",
       "      <td>0.5072</td>\n",
       "      <td>-0.037788</td>\n",
       "    </tr>\n",
       "    <tr>\n",
       "      <th>1</th>\n",
       "      <td>2</td>\n",
       "      <td>369.14</td>\n",
       "      <td>14.4900</td>\n",
       "      <td>0.3418</td>\n",
       "      <td>-3.995284</td>\n",
       "    </tr>\n",
       "    <tr>\n",
       "      <th>2</th>\n",
       "      <td>3</td>\n",
       "      <td>372.52</td>\n",
       "      <td>11.6500</td>\n",
       "      <td>0.4026</td>\n",
       "      <td>3.147672</td>\n",
       "    </tr>\n",
       "    <tr>\n",
       "      <th>3</th>\n",
       "      <td>4</td>\n",
       "      <td>368.80</td>\n",
       "      <td>13.3000</td>\n",
       "      <td>0.3280</td>\n",
       "      <td>0.368960</td>\n",
       "    </tr>\n",
       "    <tr>\n",
       "      <th>4</th>\n",
       "      <td>5</td>\n",
       "      <td>374.23</td>\n",
       "      <td>15.4500</td>\n",
       "      <td>0.4146</td>\n",
       "      <td>NaN</td>\n",
       "    </tr>\n",
       "  </tbody>\n",
       "</table>\n",
       "</div>"
      ],
      "text/plain": [
       "   Day  Underlying Price  Call Option Price  Option Delta       A_i\n",
       "0    1            377.85            18.9455        0.5072 -0.037788\n",
       "1    2            369.14            14.4900        0.3418 -3.995284\n",
       "2    3            372.52            11.6500        0.4026  3.147672\n",
       "3    4            368.80            13.3000        0.3280  0.368960\n",
       "4    5            374.23            15.4500        0.4146       NaN"
      ]
     },
     "execution_count": 4,
     "metadata": {},
     "output_type": "execute_result"
    }
   ],
   "source": [
    "def calculate_Ai(Ci_plus_1, Ci, Delta_i, Si_plus_1, Si):\n",
    "    \"\"\"\n",
    "    Calculate the difference Ai between the change in value of OP and RE.\n",
    "\n",
    "    :param Ci_plus_1: Price of the call option at time i+1.\n",
    "    :param Ci: Price of the call option at time i.\n",
    "    :param Delta_i: Delta of the option at time i.\n",
    "    :param Si_plus_1: Price of the underlying asset at time i+1.\n",
    "    :param Si: Price of the underlying asset at time i.\n",
    "    :return: Difference Ai.\n",
    "    \"\"\"\n",
    "    return (Ci_plus_1 - Ci) - Delta_i * (Si_plus_1 - Si)\n",
    "\n",
    "data['A_i'] = calculate_Ai(data['Call Option Price'].shift(-1), \n",
    "                          data['Call Option Price'], \n",
    "                          data['Option Delta'], \n",
    "                          data['Underlying Price'].shift(-1), \n",
    "                          data['Underlying Price'])\n",
    "\n",
    "error = (data['A_i'] ** 2).mean()\n",
    "\n",
    "print(\"Total Mean Squared Error:\", error)\n",
    "\n",
    "data"
   ]
  },
  {
   "cell_type": "code",
   "execution_count": null,
   "metadata": {},
   "outputs": [],
   "source": []
  }
 ],
 "metadata": {
  "kernelspec": {
   "display_name": "Python 3",
   "language": "python",
   "name": "python3"
  },
  "language_info": {
   "codemirror_mode": {
    "name": "ipython",
    "version": 3
   },
   "file_extension": ".py",
   "mimetype": "text/x-python",
   "name": "python",
   "nbconvert_exporter": "python",
   "pygments_lexer": "ipython3",
   "version": "3.10.5"
  }
 },
 "nbformat": 4,
 "nbformat_minor": 2
}
